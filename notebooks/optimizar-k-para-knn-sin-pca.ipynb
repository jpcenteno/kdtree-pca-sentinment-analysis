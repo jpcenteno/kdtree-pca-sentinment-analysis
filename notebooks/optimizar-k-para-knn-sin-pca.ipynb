{
 "cells": [
  {
   "cell_type": "markdown",
   "metadata": {},
   "source": [
    "# Sentiment Analysis con KNN\n",
    "## Clasificador en C++ 💪💪\n",
    "Vamos a probar a nuestro bichito\n"
   ]
  },
  {
   "cell_type": "markdown",
   "metadata": {},
   "source": [
    "Definir los path al ejecutable de python 3.6 y sus librerías,\n",
    "de acuerdo al virtual env que estén corriendo.\n",
    "\n",
    "Correr la celda de abajo garantiza que los experimentos esten corriendo con la ultima versión release del programa."
   ]
  },
  {
   "cell_type": "code",
   "execution_count": 1,
   "metadata": {},
   "outputs": [
    {
     "name": "stdout",
     "output_type": "stream",
     "text": [
      "mkdir: cannot create directory ‘build’: File exists\n",
      "-- The C compiler identification is GNU 9.2.0\n",
      "-- The CXX compiler identification is GNU 9.2.0\n",
      "-- Check for working C compiler: /usr/bin/cc\n",
      "-- Check for working C compiler: /usr/bin/cc -- works\n",
      "-- Detecting C compiler ABI info\n",
      "-- Detecting C compiler ABI info - done\n",
      "-- Detecting C compile features\n",
      "-- Detecting C compile features - done\n",
      "-- Check for working CXX compiler: /usr/bin/c++\n",
      "-- Check for working CXX compiler: /usr/bin/c++ -- works\n",
      "-- Detecting CXX compiler ABI info\n",
      "-- Detecting CXX compiler ABI info - done\n",
      "-- Detecting CXX compile features\n",
      "-- Detecting CXX compile features - done\n",
      "Habilitando Log de Funciones de nivel 1\n",
      "Release mode\n",
      "-- Found OpenMP_C: -fopenmp (found version \"4.5\") \n",
      "-- Found OpenMP_CXX: -fopenmp (found version \"4.5\") \n",
      "-- Found OpenMP: TRUE (found version \"4.5\")  \n",
      "-- Found libomp without any special flags\n",
      "-- Found PythonInterp: /home/j/Code/mn-tp2/.venv/bin/python (found version \"3.7.4\") \n",
      "-- Found PythonLibs: /usr/lib/libpython3.7m.so\n",
      "-- pybind11 v2.3.dev0\n",
      "-- Performing Test HAS_FLTO\n",
      "-- Performing Test HAS_FLTO - Success\n",
      "-- LTO enabled\n",
      "CMAKE_INSTALL_PREFIX=/home/j/Code/mn-tp2\n",
      "-- Configuring done\n",
      "-- Generating done\n",
      "-- Build files have been written to: /home/j/Code/mn-tp2/build\n",
      "\u001b[35m\u001b[1mScanning dependencies of target sentiment\u001b[0m\n",
      "\u001b[35m\u001b[1mScanning dependencies of target tp2\u001b[0m\n",
      "[ 10%] \u001b[32mBuilding CXX object CMakeFiles/tp2.dir/src/main.cpp.o\u001b[0m\n",
      "[ 20%] \u001b[32mBuilding CXX object CMakeFiles/tp2.dir/src/knn.cpp.o\u001b[0m\n",
      "[ 30%] \u001b[32mBuilding CXX object CMakeFiles/tp2.dir/src/eigen.cpp.o\u001b[0m\n",
      "[ 40%] \u001b[32mBuilding CXX object CMakeFiles/tp2.dir/src/pca.cpp.o\u001b[0m\n",
      "[ 50%] \u001b[32mBuilding CXX object CMakeFiles/sentiment.dir/src/sentiment.cpp.o\u001b[0m\n",
      "[ 60%] \u001b[32mBuilding CXX object CMakeFiles/sentiment.dir/src/knn.cpp.o\u001b[0m\n",
      "[ 70%] \u001b[32mBuilding CXX object CMakeFiles/sentiment.dir/src/pca.cpp.o\u001b[0m\n",
      "[ 80%] \u001b[32mBuilding CXX object CMakeFiles/sentiment.dir/src/eigen.cpp.o\u001b[0m\n",
      "[ 90%] \u001b[32m\u001b[1mLinking CXX executable tp2\u001b[0m\n",
      "[ 90%] Built target tp2\n",
      "[100%] \u001b[32m\u001b[1mLinking CXX shared module sentiment.cpython-37m-x86_64-linux-gnu.so\u001b[0m\n",
      "[100%] Built target sentiment\n",
      "\u001b[36mInstall the project...\u001b[0m\n",
      "-- Install configuration: \"Release\"\n",
      "-- Installing: /home/j/Code/mn-tp2/notebooks/sentiment.cpython-37m-x86_64-linux-gnu.so\n"
     ]
    }
   ],
   "source": [
    "!cd .. && git submodule init\n",
    "!cd .. && git submodule update\n",
    "!cd .. && mkdir build\n",
    "!cd ../build/ && rm -rf *\n",
    "!cd ../build && cmake \\\n",
    "  -DPYTHON_EXECUTABLE=\"$(which python)\" \\\n",
    "  -DCMAKE_BUILD_TYPE=Release ..\n",
    "!cd ../build && make -j install"
   ]
  },
  {
   "cell_type": "code",
   "execution_count": 2,
   "metadata": {
    "scrolled": true
   },
   "outputs": [
    {
     "name": "stdout",
     "output_type": "stream",
     "text": [
      "The autoreload extension is already loaded. To reload it, use:\n",
      "  %reload_ext autoreload\n",
      "/home/j/Code/mn-tp2/notebooks\n",
      "Python 3.7.4\n"
     ]
    }
   ],
   "source": [
    "%load_ext autoreload\n",
    "%autoreload 2\n",
    "\n",
    "# Verifico la correcta instalación. Si no falla el import está OK\n",
    "!pwd\n",
    "!python --version\n",
    "import sentiment\n",
    "\n",
    "# Resto de los imports\n",
    "import time\n",
    "import pandas as pd\n",
    "import matplotlib.pyplot as plt\n",
    "import seaborn as sns\n",
    "from sklearn.feature_extraction.text import CountVectorizer\n",
    "import logging\n",
    "from sklearn.metrics import accuracy_score\n",
    "\n",
    "logging.basicConfig(level=logging.WARNING, format='[%(levelname)s] %(message)s')\n",
    "logger = logging.getLogger('notebook')\n",
    "logger.setLevel(logging.DEBUG)\n",
    "\n",
    "# Configuración de los plots de seaborn\n",
    "sns.set_context(\"paper\")\n",
    "sns.set_style(\"whitegrid\")\n",
    "sns.set()"
   ]
  },
  {
   "cell_type": "code",
   "execution_count": 6,
   "metadata": {},
   "outputs": [
    {
     "name": "stderr",
     "output_type": "stream",
     "text": [
      "[DEBUG] Cargando datos en memoria.\n",
      "[INFO] Cantidad de documentos: 12500\n",
      "[INFO] Cantidad de instancias de entrenamiento = 6225\n",
      "[INFO] Cantidad de instancias de test = 6275\n",
      "[INFO] Class balance : 0.495 pos 0.505 neg\n",
      "[DEBUG] X_train.shape = (6225, 1820)\n",
      "[DEBUG] y_train.shape = (6225,)\n",
      "[DEBUG] X_test.shape = (6275, 1820)\n",
      "[DEBUG] y_test.shape = (6275,)\n"
     ]
    }
   ],
   "source": [
    "def read_data(path='../data/imdb_small.csv'):\n",
    "    '''\n",
    "    Carga el dataset en memoria.\n",
    "    '''\n",
    "\n",
    "    logger.debug('Cargando datos en memoria.')\n",
    "\n",
    "    df = pd.read_csv(path, index_col=0)\n",
    "    logger.info(\"Cantidad de documentos: {}\".format(df.shape[0]))\n",
    "\n",
    "    # Separa los textos en instancias de test y entrenamiento.\n",
    "    text_train = df[df.type == 'train'][\"review\"]\n",
    "    label_train = df[df.type == 'train'][\"label\"]\n",
    "    text_test = df[df.type == 'test'][\"review\"]\n",
    "    label_test = df[df.type == 'test'][\"label\"]\n",
    "    logger.info(\"Cantidad de instancias de entrenamiento = {}\".format(len(text_train)))\n",
    "    logger.info(\"Cantidad de instancias de test = {}\".format(len(text_test)))\n",
    "\n",
    "    # Calculo el class balance\n",
    "    logger.info(\"Class balance : {:.3f} pos {:.3f} neg\".format(\n",
    "        (label_train == 'pos').sum() / label_train.shape[0], \n",
    "        (label_train == 'neg').sum() / label_train.shape[0]\n",
    "    ))\n",
    "\n",
    "    # Vectorizo los datos\n",
    "    vectorizer = CountVectorizer(max_df=0.90, min_df=0.01, max_features=5000)\n",
    "    vectorizer.fit(text_train)\n",
    "    X_train, y_train = vectorizer.transform(text_train), (label_train == 'pos').values\n",
    "    X_test, y_test = vectorizer.transform(text_test), (label_test == 'pos').values\n",
    "    logger.debug(f'X_train.shape = {X_train.shape}')\n",
    "    logger.debug(f'y_train.shape = {y_train.shape}')\n",
    "    logger.debug(f'X_test.shape = {X_test.shape}')\n",
    "    logger.debug(f'y_test.shape = {y_test.shape}')\n",
    "\n",
    "    return X_train, y_train, X_test, y_test\n",
    "\n",
    "# ----------------------------------------------------------------------------\n",
    "\n",
    "X_train, y_train, X_test, y_test = read_data()"
   ]
  },
  {
   "cell_type": "markdown",
   "metadata": {},
   "source": [
    "## Búsqueda de $k$ óptimo\n",
    "\n",
    "La idea es empezar a buscar en el rango $\\left[ 1, \\dots, 3000 \\right]$, con una granularidad alta para luego hacer una exploración detallada en las zonas de mejor _accuracy_."
   ]
  },
  {
   "cell_type": "code",
   "execution_count": 4,
   "metadata": {},
   "outputs": [],
   "source": [
    "def lin_search(ks):\n",
    "    '''\n",
    "    Función para hacer una búsqueda lineal del accuracy para distintos valores\n",
    "    de `k`.\n",
    "    '''\n",
    "\n",
    "    # Primero construye el kdtree. La idea es usar el mismo kdtree para luego\n",
    "    # clasificar bajo distintos valores de k\n",
    "    logger.debug('Construyendo el kdtree')\n",
    "    time_fit_begin = time.perf_counter()\n",
    "    clf = sentiment.KNNClassifier(42) # No importa el numero\n",
    "    clf.fit(X_train, y_train)\n",
    "    time_fit_end = time.perf_counter()\n",
    "    time_fit = time_fit_end - time_fit_begin\n",
    "    logger.debug(f'Se construyó el kdtree en {time_fit:.3f}s')\n",
    "    \n",
    "    mediciones = []\n",
    "    for k in ks:\n",
    "\n",
    "        logger.debug(f'Clasificando para k={k}...')\n",
    "\n",
    "        time_predict_begin = time.perf_counter()\n",
    "        clf.setNeightbors(k)\n",
    "        y_pred = clf.predict(X_test)\n",
    "        time_predict_end = time.perf_counter()\n",
    "        time_predict = time_predict_end - time_predict_begin\n",
    " \n",
    "        acc = accuracy_score(y_pred, y_test)\n",
    "        logger.debug(f'Se clasificó para k={k} en {time_predict:.3f}s.')\n",
    "        \n",
    "        mediciones.append([k, acc, time_predict])\n",
    "        \n",
    "    df = pd.DataFrame(mediciones, columns=['k', 'acc', 'time_predict'])\n",
    "    return df"
   ]
  },
  {
   "cell_type": "markdown",
   "metadata": {},
   "source": [
    "### Primera exploración del espacio de hiperparámetros:\n",
    "\n",
    "En una primera exploración se buscó aproximar el valor óptimo de $k$ en el espacio $1 \\leq k \\leq 3000$ con una granularidad muy alta, yendo de 100 en 100."
   ]
  },
  {
   "cell_type": "code",
   "execution_count": 20,
   "metadata": {
    "scrolled": true
   },
   "outputs": [
    {
     "name": "stderr",
     "output_type": "stream",
     "text": [
      "[DEBUG] Construyendo el kdtree\n",
      "[DEBUG] Se construyó el kdtree en 0.725s\n",
      "[DEBUG] Clasificando para k=1...\n",
      "[DEBUG] Se clasificó para k=1 en 28.504s.\n",
      "[DEBUG] Clasificando para k=101...\n",
      "[DEBUG] Se clasificó para k=101 en 29.320s.\n",
      "[DEBUG] Clasificando para k=201...\n",
      "[DEBUG] Se clasificó para k=201 en 29.406s.\n",
      "[DEBUG] Clasificando para k=301...\n",
      "[DEBUG] Se clasificó para k=301 en 29.635s.\n",
      "[DEBUG] Clasificando para k=401...\n",
      "[DEBUG] Se clasificó para k=401 en 29.662s.\n",
      "[DEBUG] Clasificando para k=501...\n",
      "[DEBUG] Se clasificó para k=501 en 29.744s.\n",
      "[DEBUG] Clasificando para k=601...\n",
      "[DEBUG] Se clasificó para k=601 en 29.933s.\n",
      "[DEBUG] Clasificando para k=701...\n",
      "[DEBUG] Se clasificó para k=701 en 29.918s.\n",
      "[DEBUG] Clasificando para k=801...\n",
      "[DEBUG] Se clasificó para k=801 en 29.993s.\n",
      "[DEBUG] Clasificando para k=901...\n",
      "[DEBUG] Se clasificó para k=901 en 32.066s.\n",
      "[DEBUG] Clasificando para k=1001...\n",
      "[DEBUG] Se clasificó para k=1001 en 32.206s.\n",
      "[DEBUG] Clasificando para k=1101...\n",
      "[DEBUG] Se clasificó para k=1101 en 30.876s.\n",
      "[DEBUG] Clasificando para k=1201...\n",
      "[DEBUG] Se clasificó para k=1201 en 30.866s.\n",
      "[DEBUG] Clasificando para k=1301...\n",
      "[DEBUG] Se clasificó para k=1301 en 30.756s.\n",
      "[DEBUG] Clasificando para k=1401...\n",
      "[DEBUG] Se clasificó para k=1401 en 31.333s.\n",
      "[DEBUG] Clasificando para k=1501...\n",
      "[DEBUG] Se clasificó para k=1501 en 30.903s.\n",
      "[DEBUG] Clasificando para k=1601...\n",
      "[DEBUG] Se clasificó para k=1601 en 31.087s.\n",
      "[DEBUG] Clasificando para k=1701...\n",
      "[DEBUG] Se clasificó para k=1701 en 31.997s.\n",
      "[DEBUG] Clasificando para k=1801...\n",
      "[DEBUG] Se clasificó para k=1801 en 35.157s.\n",
      "[DEBUG] Clasificando para k=1901...\n",
      "[DEBUG] Se clasificó para k=1901 en 34.300s.\n",
      "[DEBUG] Clasificando para k=2001...\n",
      "[DEBUG] Se clasificó para k=2001 en 35.405s.\n",
      "[DEBUG] Clasificando para k=2101...\n",
      "[DEBUG] Se clasificó para k=2101 en 31.896s.\n",
      "[DEBUG] Clasificando para k=2201...\n",
      "[DEBUG] Se clasificó para k=2201 en 31.135s.\n",
      "[DEBUG] Clasificando para k=2301...\n",
      "[DEBUG] Se clasificó para k=2301 en 31.618s.\n",
      "[DEBUG] Clasificando para k=2401...\n",
      "[DEBUG] Se clasificó para k=2401 en 31.910s.\n",
      "[DEBUG] Clasificando para k=2501...\n",
      "[DEBUG] Se clasificó para k=2501 en 33.255s.\n",
      "[DEBUG] Clasificando para k=2601...\n",
      "[DEBUG] Se clasificó para k=2601 en 34.470s.\n",
      "[DEBUG] Clasificando para k=2701...\n",
      "[DEBUG] Se clasificó para k=2701 en 33.998s.\n",
      "[DEBUG] Clasificando para k=2801...\n",
      "[DEBUG] Se clasificó para k=2801 en 31.641s.\n",
      "[DEBUG] Clasificando para k=2901...\n",
      "[DEBUG] Se clasificó para k=2901 en 31.255s.\n"
     ]
    }
   ],
   "source": [
    "# Correr esta celda para buscar hiperparámetros\n",
    "ks = list(range(1, 3000, 100))\n",
    "df = lin_search(ks)"
   ]
  },
  {
   "cell_type": "code",
   "execution_count": 54,
   "metadata": {
    "scrolled": true
   },
   "outputs": [
    {
     "data": {
      "text/plain": [
       "<matplotlib.axes._subplots.AxesSubplot at 0x7f7c73c9ef10>"
      ]
     },
     "execution_count": 54,
     "metadata": {},
     "output_type": "execute_result"
    },
    {
     "data": {
      "image/png": "[encoded data removed]",
      "text/plain": [
       "<Figure size 432x288 with 1 Axes>"
      ]
     },
     "metadata": {},
     "output_type": "display_data"
    }
   ],
   "source": [
    "sns.lineplot(x='k', y='acc', data=df)"
   ]
  },
  {
   "cell_type": "markdown",
   "metadata": {},
   "source": [
    "Se pueden ver dos máximos locales para los valores de $k$ explorados. Uno de mayor magnitud en el espacio $1500 \\leq k \\leq 2000$ y otro de menor magnitud en el rango $1 \\leq k \\leq 500$."
   ]
  },
  {
   "cell_type": "code",
   "execution_count": 61,
   "metadata": {
    "scrolled": true
   },
   "outputs": [
    {
     "name": "stdout",
     "output_type": "stream",
     "text": [
      "Optimo local 1:\n",
      "k               101.000000\n",
      "acc               0.633785\n",
      "time_predict     30.617797\n",
      "Name: 1, dtype: float64\n",
      "\n",
      "Optimo local 2:\n",
      "k               1801.000000\n",
      "acc                0.679522\n",
      "time_predict      30.681591\n",
      "Name: 18, dtype: float64\n"
     ]
    },
    {
     "name": "stderr",
     "output_type": "stream",
     "text": [
      "/home/j/Code/mn-tp2/.venv/lib/python3.7/site-packages/ipykernel_launcher.py:2: UserWarning: Boolean Series key will be reindexed to match DataFrame index.\n",
      "  \n"
     ]
    }
   ],
   "source": [
    "def get_subset(df, k_min, k_max):\n",
    "    return df[k_min <= df['k']][df['k'] <= k_max]\n",
    "\n",
    "def get_max_local(df, k_min, k_max):\n",
    "    '''\n",
    "    Devuelve el máximo local para el accuracy en el rango `min_k <= k <= max_k`.\n",
    "    '''\n",
    "    df_subset = get_subset(df, k_min, k_max)\n",
    "    id_opt = df_subset['acc'].idxmax()\n",
    "    return df_subset.loc[id_opt]\n",
    "\n",
    "print(f'Optimo local 1:')\n",
    "print(get_max_local(df, 0, 500))\n",
    "\n",
    "print()\n",
    "\n",
    "print(f'Optimo local 2:')\n",
    "print(get_max_local(df, 1500, 2000))"
   ]
  },
  {
   "cell_type": "markdown",
   "metadata": {},
   "source": [
    "El primer óptimo local eta en $k = 101$. El segundo en $k = 1801$"
   ]
  },
  {
   "cell_type": "code",
   "execution_count": 66,
   "metadata": {
    "scrolled": true
   },
   "outputs": [
    {
     "data": {
      "text/plain": [
       "(1, 500)"
      ]
     },
     "execution_count": 66,
     "metadata": {},
     "output_type": "execute_result"
    },
    {
     "data": {
      "image/png": "[encoded data removed]",
      "text/plain": [
       "<Figure size 432x288 with 1 Axes>"
      ]
     },
     "metadata": {},
     "output_type": "display_data"
    }
   ],
   "source": [
    "sns.lineplot(x='k', y='acc', data=df)\n",
    "plt.xlim(1, 500)"
   ]
  },
  {
   "cell_type": "code",
   "execution_count": 67,
   "metadata": {
    "scrolled": true
   },
   "outputs": [
    {
     "data": {
      "text/plain": [
       "(1500, 2000)"
      ]
     },
     "execution_count": 67,
     "metadata": {},
     "output_type": "execute_result"
    },
    {
     "data": {
      "image/png": "[encoded data removed]",
      "text/plain": [
       "<Figure size 432x288 with 1 Axes>"
      ]
     },
     "metadata": {},
     "output_type": "display_data"
    }
   ],
   "source": [
    "sns.lineplot(x='k', y='acc', data=df)\n",
    "plt.xlim(1500, 2000)"
   ]
  },
  {
   "cell_type": "markdown",
   "metadata": {},
   "source": [
    "### Mediciones para el optimo 1\n",
    "\n",
    "Tomo mediciones con menor granularidad para los dos optimos locales encontrados. Pruebo el rango $\\{1, 11, \\dots, 191\\}$."
   ]
  },
  {
   "cell_type": "code",
   "execution_count": 7,
   "metadata": {},
   "outputs": [
    {
     "name": "stderr",
     "output_type": "stream",
     "text": [
      "[DEBUG] Construyendo el kdtree\n",
      "[DEBUG] Se construyó el kdtree en 0.732s\n",
      "[DEBUG] Clasificando para k=1...\n",
      "[DEBUG] Se clasificó para k=1 en 28.714s.\n",
      "[DEBUG] Clasificando para k=11...\n",
      "[DEBUG] Se clasificó para k=11 en 29.096s.\n",
      "[DEBUG] Clasificando para k=21...\n",
      "[DEBUG] Se clasificó para k=21 en 29.105s.\n",
      "[DEBUG] Clasificando para k=31...\n",
      "[DEBUG] Se clasificó para k=31 en 29.229s.\n",
      "[DEBUG] Clasificando para k=41...\n",
      "[DEBUG] Se clasificó para k=41 en 29.174s.\n",
      "[DEBUG] Clasificando para k=51...\n",
      "[DEBUG] Se clasificó para k=51 en 29.206s.\n",
      "[DEBUG] Clasificando para k=61...\n",
      "[DEBUG] Se clasificó para k=61 en 29.283s.\n",
      "[DEBUG] Clasificando para k=71...\n",
      "[DEBUG] Se clasificó para k=71 en 29.327s.\n",
      "[DEBUG] Clasificando para k=81...\n",
      "[DEBUG] Se clasificó para k=81 en 29.262s.\n",
      "[DEBUG] Clasificando para k=91...\n",
      "[DEBUG] Se clasificó para k=91 en 29.452s.\n",
      "[DEBUG] Clasificando para k=101...\n",
      "[DEBUG] Se clasificó para k=101 en 29.292s.\n",
      "[DEBUG] Clasificando para k=111...\n",
      "[DEBUG] Se clasificó para k=111 en 29.490s.\n",
      "[DEBUG] Clasificando para k=121...\n",
      "[DEBUG] Se clasificó para k=121 en 29.395s.\n",
      "[DEBUG] Clasificando para k=131...\n",
      "[DEBUG] Se clasificó para k=131 en 29.446s.\n",
      "[DEBUG] Clasificando para k=141...\n",
      "[DEBUG] Se clasificó para k=141 en 29.522s.\n",
      "[DEBUG] Clasificando para k=151...\n",
      "[DEBUG] Se clasificó para k=151 en 29.527s.\n",
      "[DEBUG] Clasificando para k=161...\n",
      "[DEBUG] Se clasificó para k=161 en 29.509s.\n",
      "[DEBUG] Clasificando para k=171...\n",
      "[DEBUG] Se clasificó para k=171 en 29.475s.\n",
      "[DEBUG] Clasificando para k=181...\n",
      "[DEBUG] Se clasificó para k=181 en 29.519s.\n",
      "[DEBUG] Clasificando para k=191...\n",
      "[DEBUG] Se clasificó para k=191 en 29.543s.\n"
     ]
    }
   ],
   "source": [
    "df_opt_1 = lin_search(range(1, 200, 10))"
   ]
  },
  {
   "cell_type": "code",
   "execution_count": 9,
   "metadata": {
    "scrolled": true
   },
   "outputs": [
    {
     "data": {
      "text/plain": [
       "<matplotlib.axes._subplots.AxesSubplot at 0x7f216938f1d0>"
      ]
     },
     "execution_count": 9,
     "metadata": {},
     "output_type": "execute_result"
    },
    {
     "data": {
      "image/png": "[encoded data removed]",
      "text/plain": [
       "<Figure size 432x288 with 1 Axes>"
      ]
     },
     "metadata": {
      "needs_background": "light"
     },
     "output_type": "display_data"
    }
   ],
   "source": [
    "sns.lineplot(x='k', y='acc', data=df_opt_1)"
   ]
  },
  {
   "cell_type": "markdown",
   "metadata": {},
   "source": [
    "### Mediciones para el optimo 2\n",
    "\n",
    "Tomo mediciones con menor granularidad para los dos optimos locales encontrados. Pruebo el rango $\\{1700, 1710, \\dots, 1800\\}$."
   ]
  },
  {
   "cell_type": "code",
   "execution_count": 8,
   "metadata": {},
   "outputs": [
    {
     "name": "stderr",
     "output_type": "stream",
     "text": [
      "[DEBUG] Construyendo el kdtree\n",
      "[DEBUG] Se construyó el kdtree en 0.720s\n",
      "[DEBUG] Clasificando para k=1700...\n",
      "[DEBUG] Se clasificó para k=1700 en 30.442s.\n",
      "[DEBUG] Clasificando para k=1710...\n",
      "[DEBUG] Se clasificó para k=1710 en 30.205s.\n",
      "[DEBUG] Clasificando para k=1720...\n",
      "[DEBUG] Se clasificó para k=1720 en 30.072s.\n",
      "[DEBUG] Clasificando para k=1730...\n",
      "[DEBUG] Se clasificó para k=1730 en 30.130s.\n",
      "[DEBUG] Clasificando para k=1740...\n",
      "[DEBUG] Se clasificó para k=1740 en 30.155s.\n",
      "[DEBUG] Clasificando para k=1750...\n",
      "[DEBUG] Se clasificó para k=1750 en 31.082s.\n",
      "[DEBUG] Clasificando para k=1760...\n",
      "[DEBUG] Se clasificó para k=1760 en 30.466s.\n",
      "[DEBUG] Clasificando para k=1770...\n",
      "[DEBUG] Se clasificó para k=1770 en 30.465s.\n",
      "[DEBUG] Clasificando para k=1780...\n",
      "[DEBUG] Se clasificó para k=1780 en 30.464s.\n",
      "[DEBUG] Clasificando para k=1790...\n",
      "[DEBUG] Se clasificó para k=1790 en 30.465s.\n",
      "[DEBUG] Clasificando para k=1800...\n",
      "[DEBUG] Se clasificó para k=1800 en 30.399s.\n",
      "[DEBUG] Clasificando para k=1810...\n",
      "[DEBUG] Se clasificó para k=1810 en 30.646s.\n",
      "[DEBUG] Clasificando para k=1820...\n",
      "[DEBUG] Se clasificó para k=1820 en 30.984s.\n",
      "[DEBUG] Clasificando para k=1830...\n",
      "[DEBUG] Se clasificó para k=1830 en 30.749s.\n",
      "[DEBUG] Clasificando para k=1840...\n",
      "[DEBUG] Se clasificó para k=1840 en 30.530s.\n",
      "[DEBUG] Clasificando para k=1850...\n",
      "[DEBUG] Se clasificó para k=1850 en 30.590s.\n",
      "[DEBUG] Clasificando para k=1860...\n",
      "[DEBUG] Se clasificó para k=1860 en 30.479s.\n",
      "[DEBUG] Clasificando para k=1870...\n",
      "[DEBUG] Se clasificó para k=1870 en 30.484s.\n",
      "[DEBUG] Clasificando para k=1880...\n",
      "[DEBUG] Se clasificó para k=1880 en 30.659s.\n",
      "[DEBUG] Clasificando para k=1890...\n",
      "[DEBUG] Se clasificó para k=1890 en 30.559s.\n"
     ]
    }
   ],
   "source": [
    "df_opt_2 = lin_search(range(1700, 1900, 10))"
   ]
  },
  {
   "cell_type": "code",
   "execution_count": 10,
   "metadata": {
    "scrolled": true
   },
   "outputs": [
    {
     "data": {
      "text/plain": [
       "<matplotlib.axes._subplots.AxesSubplot at 0x7f213a64fc50>"
      ]
     },
     "execution_count": 10,
     "metadata": {},
     "output_type": "execute_result"
    },
    {
     "data": {
      "image/png": "[encoded data removed]",
      "text/plain": [
       "<Figure size 432x288 with 1 Axes>"
      ]
     },
     "metadata": {
      "needs_background": "light"
     },
     "output_type": "display_data"
    }
   ],
   "source": [
    "sns.lineplot(x='k', y='acc', data=df_opt_2)"
   ]
  },
  {
   "cell_type": "markdown",
   "metadata": {},
   "source": [
    "El accuracy pra estos valores de $k$ resulta mayor que para el optimo 1. el mejor valor de $K$ hallado hasta ahora es $1830$ con $\\mathrm{acc}_{k=1830}=0.683$."
   ]
  },
  {
   "cell_type": "code",
   "execution_count": 12,
   "metadata": {},
   "outputs": [
    {
     "name": "stdout",
     "output_type": "stream",
     "text": [
      "       k       acc  time_predict\n",
      "13  1830  0.682709      30.74872\n"
     ]
    },
    {
     "data": {
      "image/png": "[encoded data removed]",
      "text/plain": [
       "<Figure size 432x288 with 1 Axes>"
      ]
     },
     "metadata": {
      "needs_background": "light"
     },
     "output_type": "display_data"
    }
   ],
   "source": [
    "sns.lineplot(x='k', y='acc', data=df_opt_2)\n",
    "plt.xlim(1810, 1850)\n",
    "\n",
    "print(df_opt_2[df_opt_2['k'] == 1830])"
   ]
  },
  {
   "cell_type": "markdown",
   "metadata": {},
   "source": [
    "Hago una busuqueda puntual:"
   ]
  },
  {
   "cell_type": "code",
   "execution_count": 16,
   "metadata": {},
   "outputs": [
    {
     "name": "stderr",
     "output_type": "stream",
     "text": [
      "[DEBUG] Construyendo el kdtree\n",
      "[DEBUG] Se construyó el kdtree en 0.738s\n",
      "[DEBUG] Clasificando para k=1820...\n",
      "[DEBUG] Se clasificó para k=1820 en 30.827s.\n",
      "[DEBUG] Clasificando para k=1821...\n",
      "[DEBUG] Se clasificó para k=1821 en 30.374s.\n",
      "[DEBUG] Clasificando para k=1822...\n",
      "[DEBUG] Se clasificó para k=1822 en 30.412s.\n",
      "[DEBUG] Clasificando para k=1823...\n",
      "[DEBUG] Se clasificó para k=1823 en 30.470s.\n",
      "[DEBUG] Clasificando para k=1824...\n",
      "[DEBUG] Se clasificó para k=1824 en 30.463s.\n",
      "[DEBUG] Clasificando para k=1825...\n",
      "[DEBUG] Se clasificó para k=1825 en 30.424s.\n",
      "[DEBUG] Clasificando para k=1826...\n",
      "[DEBUG] Se clasificó para k=1826 en 30.419s.\n",
      "[DEBUG] Clasificando para k=1827...\n",
      "[DEBUG] Se clasificó para k=1827 en 30.536s.\n",
      "[DEBUG] Clasificando para k=1828...\n",
      "[DEBUG] Se clasificó para k=1828 en 30.459s.\n",
      "[DEBUG] Clasificando para k=1829...\n",
      "[DEBUG] Se clasificó para k=1829 en 30.464s.\n",
      "[DEBUG] Clasificando para k=1830...\n",
      "[DEBUG] Se clasificó para k=1830 en 30.511s.\n",
      "[DEBUG] Clasificando para k=1831...\n",
      "[DEBUG] Se clasificó para k=1831 en 30.678s.\n",
      "[DEBUG] Clasificando para k=1832...\n",
      "[DEBUG] Se clasificó para k=1832 en 30.414s.\n",
      "[DEBUG] Clasificando para k=1833...\n",
      "[DEBUG] Se clasificó para k=1833 en 30.498s.\n",
      "[DEBUG] Clasificando para k=1834...\n",
      "[DEBUG] Se clasificó para k=1834 en 30.535s.\n",
      "[DEBUG] Clasificando para k=1835...\n",
      "[DEBUG] Se clasificó para k=1835 en 30.404s.\n"
     ]
    }
   ],
   "source": [
    "df_opt_3 = lin_search(range(1820, 1836))"
   ]
  },
  {
   "cell_type": "code",
   "execution_count": 17,
   "metadata": {},
   "outputs": [
    {
     "data": {
      "text/plain": [
       "<matplotlib.axes._subplots.AxesSubplot at 0x7f2129c5e1d0>"
      ]
     },
     "execution_count": 17,
     "metadata": {},
     "output_type": "execute_result"
    },
    {
     "data": {
      "image/png": "[encoded data removed]",
      "text/plain": [
       "<Figure size 432x288 with 1 Axes>"
      ]
     },
     "metadata": {
      "needs_background": "light"
     },
     "output_type": "display_data"
    }
   ],
   "source": [
    "sns.lineplot(x='k', y='acc', data=df_opt_3)"
   ]
  },
  {
   "cell_type": "code",
   "execution_count": 19,
   "metadata": {},
   "outputs": [
    {
     "name": "stdout",
     "output_type": "stream",
     "text": [
      "k               1826.000000\n",
      "acc                0.684940\n",
      "time_predict      30.419246\n",
      "Name: 6, dtype: float64\n"
     ]
    }
   ],
   "source": [
    "def get_max_acc(df):\n",
    "    '''\n",
    "    Devuelve el máximo local para el accuracy en el rango `min_k <= k <= max_k`.\n",
    "    '''\n",
    "    id_opt = df['acc'].idxmax()\n",
    "    return df.loc[id_opt]\n",
    "\n",
    "print(get_max_acc(df_opt_3))"
   ]
  },
  {
   "cell_type": "markdown",
   "metadata": {},
   "source": [
    "## Consolidando\n",
    "\n",
    "En esta parte junto los datos obtenidos en un dataframe. Genero el plot necesario para el informe y guardo los datos."
   ]
  },
  {
   "cell_type": "code",
   "execution_count": 27,
   "metadata": {},
   "outputs": [],
   "source": [
    "mediciones = pd.concat([df, df_opt_1, df_opt_2, df_opt_3])\n",
    "mediciones.to_csv('results/opti-k-sin-pca.csv')"
   ]
  },
  {
   "cell_type": "code",
   "execution_count": 26,
   "metadata": {},
   "outputs": [
    {
     "data": {
      "text/plain": [
       "<matplotlib.axes._subplots.AxesSubplot at 0x7f21287b4610>"
      ]
     },
     "execution_count": 26,
     "metadata": {},
     "output_type": "execute_result"
    },
    {
     "data": {
      "image/png": "[encoded data removed]",
      "text/plain": [
       "<Figure size 432x288 with 1 Axes>"
      ]
     },
     "metadata": {
      "needs_background": "light"
     },
     "output_type": "display_data"
    }
   ],
   "source": [
    "sns.lineplot(x='k', y='acc', data=mediciones)"
   ]
  }
 ],
 "metadata": {
  "kernelspec": {
   "display_name": "Python 3",
   "language": "python",
   "name": "python3"
  },
  "language_info": {
   "codemirror_mode": {
    "name": "ipython",
    "version": 3
   },
   "file_extension": ".py",
   "mimetype": "text/x-python",
   "name": "python",
   "nbconvert_exporter": "python",
   "pygments_lexer": "ipython3",
   "version": "3.7.4"
  }
 },
 "nbformat": 4,
 "nbformat_minor": 2
}

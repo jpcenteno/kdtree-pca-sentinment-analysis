{
 "cells": [
  {
   "cell_type": "code",
   "execution_count": null,
   "metadata": {},
   "outputs": [],
   "source": [
    "import pandas as pd\n",
    "import os\n",
    "import re\n",
    "\n",
    "small_path = \"../data/kalpha/sentiment/small/\"\n",
    "#df = pd.read_csv(\"../exp/kalpha/\", index_col=0)\n",
    "\n",
    "def get_df_dict(path):\n",
    "    cells_df = {}\n",
    "    for r, d, f in os.walk(path):\n",
    "        for file in f:\n",
    "            match = re.search(\".*k:([^_]*).*a:([^_]*)\", file)\n",
    "            k=int(match.group(1))\n",
    "            alfa=int(match.group(2))\n",
    "            cells_df[(alfa, k)] = pd.read_csv(path + file)\n",
    "\n",
    "    sk = list(cells_df.keys())\n",
    "    sk.sort()\n",
    "    \n",
    "    return cells_df, sk\n",
    "\n",
    "cells_df, sk = get_df_dict(small_path)"
   ]
  },
  {
   "cell_type": "code",
   "execution_count": null,
   "metadata": {},
   "outputs": [],
   "source": [
    "print(sk)\n",
    "print(sk[0])\n",
    "cells_df[sk[0]]"
   ]
  },
  {
   "cell_type": "code",
   "execution_count": null,
   "metadata": {},
   "outputs": [],
   "source": [
    "import numpy as np\n",
    "\n",
    "def to_numpy(data, rows, cols, d, sk):\n",
    "    grid=[]\n",
    "    for i in range(0,rows):\n",
    "        row = []\n",
    "        for j in range(0,cols):\n",
    "            row.append(max(d[sk[i*cols + j]][data]))\n",
    "        grid.append(row)\n",
    "    \n",
    "    return np.array(grid)\n",
    "    \n",
    "data=to_numpy('acc', 9, 10, cells_df, sk)\n",
    "    "
   ]
  },
  {
   "cell_type": "code",
   "execution_count": null,
   "metadata": {},
   "outputs": [],
   "source": [
    "from heatmap import *\n",
    "\n",
    "def fucking_plot_it(np_data, first_y, last_y, step_y, first_x, last_x, step_x):\n",
    "    fig, ax = plt.subplots(figsize=(24,9))\n",
    "\n",
    "    ax.set_xlabel('Vecinos')\n",
    "    ax.set_ylabel('Componentes Principales')\n",
    "\n",
    "    im, cbar = heatmap(np_data, [str(a) for a in range(first_y,last_y+step_y,step_y)]\n",
    "                       , [str(k) for k in range(first_x, last_x+step_x, step_x)]\n",
    "                       ,ax=ax, cbarlabel='Accuracy')\n",
    "    texts = annotate_heatmap(im, valfmt=\"{x:.2f}\")\n",
    "\n",
    "    fig.tight_layout()\n",
    "    plt.show()\n",
    "    \n",
    "fucking_plot_it(data, 10, 90, 10, 100, 1000, 100)"
   ]
  },
  {
   "cell_type": "code",
   "execution_count": null,
   "metadata": {},
   "outputs": [],
   "source": [
    "# sanity check, del orden\n",
    "print(max(cells_df[(10, 100)]['acc']))\n",
    "print(max(cells_df[(10, 1000)]['acc']))\n",
    "print(max(cells_df[(90, 100)]['acc']))\n",
    "print(max(cells_df[(90, 1000)]['acc']))"
   ]
  },
  {
   "cell_type": "code",
   "execution_count": null,
   "metadata": {},
   "outputs": [],
   "source": [
    "big_path = \"../data/kalpha/sentiment/big/\"\n",
    "big_cells_df, big_sk = get_df_dict(big_path)\n",
    "len(big_cells_df)"
   ]
  },
  {
   "cell_type": "code",
   "execution_count": null,
   "metadata": {},
   "outputs": [],
   "source": [
    "cols, first_x, last_x, step_x = 10, 100, 1100, 100\n",
    "rows, first_y, last_y, step_y = 7, 500, 1100, 100\n",
    "\n",
    "big_data=to_numpy('acc', rows, cols, big_cells_df, big_sk)\n",
    "fucking_plot_it(big_data, first_y, last_y, step_y, first_x, last_x, step_x)"
   ]
  },
  {
   "cell_type": "code",
   "execution_count": null,
   "metadata": {},
   "outputs": [],
   "source": []
  },
  {
   "cell_type": "code",
   "execution_count": null,
   "metadata": {},
   "outputs": [],
   "source": []
  },
  {
   "cell_type": "code",
   "execution_count": null,
   "metadata": {},
   "outputs": [],
   "source": []
  }
 ],
 "metadata": {
  "kernelspec": {
   "display_name": "Python 3",
   "language": "python",
   "name": "python3"
  },
  "language_info": {
   "codemirror_mode": {
    "name": "ipython",
    "version": 3
   },
   "file_extension": ".py",
   "mimetype": "text/x-python",
   "name": "python",
   "nbconvert_exporter": "python",
   "pygments_lexer": "ipython3",
   "version": "3.7.4"
  }
 },
 "nbformat": 4,
 "nbformat_minor": 2
}

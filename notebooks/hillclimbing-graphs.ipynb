{
 "cells": [
  {
   "cell_type": "markdown",
   "metadata": {
    "ein.tags": "worksheet-0",
    "slideshow": {
     "slide_type": "-"
    }
   },
   "source": [
    "# Busqueda de parámetros\n",
    "## Gráficos y coso\n",
    "\n",
    "*TODO*\n",
    "para ver si podemos meter la búsqueda local en 3d..."
   ]
  },
  {
   "cell_type": "code",
   "execution_count": null,
   "metadata": {
    "autoscroll": false,
    "ein.hycell": false,
    "ein.tags": "worksheet-0",
    "slideshow": {
     "slide_type": "-"
    }
   },
   "outputs": [],
   "source": [
    "from mpl_toolkits import mplot3d\n",
    "import numpy as np\n",
    "import matplotlib.pyplot as plt\n",
    "from helper import *"
   ]
  },
  {
   "cell_type": "code",
   "execution_count": null,
   "metadata": {
    "autoscroll": false,
    "ein.hycell": false,
    "ein.tags": "worksheet-0",
    "slideshow": {
     "slide_type": "-"
    }
   },
   "outputs": [],
   "source": [
    "small_path = \"../data/kalpha/sentiment/big_grid/\"\n",
    "cells_df, sk = get_df_dict(small_path)\n",
    "print(len(cells_df))\n",
    "print(cells_df)"
   ]
  },
  {
   "cell_type": "code",
   "execution_count": null,
   "metadata": {},
   "outputs": [],
   "source": [
    "data=to_numpy('acc', 9, 10, cells_df, sk)"
   ]
  },
  {
   "cell_type": "code",
   "execution_count": null,
   "metadata": {
    "autoscroll": false,
    "ein.hycell": false,
    "ein.tags": "worksheet-0",
    "slideshow": {
     "slide_type": "-"
    }
   },
   "outputs": [],
   "source": [
    "colors=['red', 'blue', 'orange', 'purple']\n",
    "def plot_z(X, Y, zfloor, climbers):\n",
    "    c = 0\n",
    "    for x in X:\n",
    "        for y in Y:\n",
    "            climber = climbers[(x, y)]\n",
    "            # los puntos en el piso y el espacio\n",
    "            #ax.scatter(climber['alpha'], climber['k'], climber['acc'], color=colors[c])\n",
    "            ax.scatter(climber['alpha'], climber['k'], zfloor, color=colors[c], marker='.')\n",
    "            # un par de conexiones en cada grilla\n",
    "            #ax.plot_wireframe(climber['alpha'], climber['k'], climber['acc'], color=colors[c], linewidth=0.5)\n",
    "            ax.plot(climber['alpha'], climber['k'], climber['acc'], color=colors[c], linewidth=0.5)\n",
    "            max_zp = max(climber['acc'])\n",
    "            for i in climber.index:\n",
    "                #print(climber.loc[i:])\n",
    "                # ploteo las verticales\n",
    "                xp=climber.loc[i,'alpha']\n",
    "                yp=climber.loc[i,'k']\n",
    "                zp=climber.loc[i, 'acc']\n",
    "                if i == 0:\n",
    "                    marker='^'\n",
    "                elif zp == max_zp:\n",
    "                    marker='v'\n",
    "                else:\n",
    "                    marker='.'\n",
    "                ax.scatter(xp, yp, zp, color=colors[c], marker=marker)\n",
    "                ax.plot([xp, xp], [yp, yp], [zfloor, zp], color=colors[c], linewidth=0.5)\n",
    "            c+=1"
   ]
  },
  {
   "cell_type": "code",
   "execution_count": null,
   "metadata": {
    "autoscroll": false,
    "ein.hycell": false,
    "ein.tags": "worksheet-0",
    "slideshow": {
     "slide_type": "-"
    }
   },
   "outputs": [],
   "source": [
    "def do_plot(ax, yangle, xangle, sk, cells_df, zfloor=0.60, zceil=0.70):\n",
    "    xs = unique([xy[0] for xy in sk])\n",
    "    ys = unique([xy[1] for xy in sk])\n",
    "\n",
    "    xs=xs[0:2]\n",
    "    ys=ys[0:2]\n",
    "\n",
    "    X, Y = np.meshgrid(xs, ys)\n",
    "\n",
    "    #fig = plt.figure()\n",
    "    #ax = plt.axes(projection=\"3d\")\n",
    "    #ax.clear()\n",
    "    #ax.plot_wireframe(X, Y, Z, color='green')\n",
    "\n",
    "    xstp = int((xs[1]-xs[0])/2)\n",
    "    ystp = int((ys[1]-ys[0])/2)\n",
    "\n",
    "    ax.set_xticks([ x - xstp for x in xs ] + [xs[-1] + xstp ])\n",
    "    ax.set_xlim(xs[0] - xstp, xs[-1] + xstp)\n",
    "    ax.set_yticks([ y - ystp for y in ys ] + [ys[-1] + ystp ])\n",
    "    ax.set_ylim(ys[0] - ystp, ys[-1] + ystp)\n",
    "    ax.set_zlim(zfloor, zceil)\n",
    "\n",
    "    ax.zaxis._axinfo[\"grid\"]['color'] =  (1,1,1,0)\n",
    "\n",
    "    ax.set_xlabel('alfa')\n",
    "    ax.set_ylabel('k')\n",
    "    ax.set_zlabel('acc')\n",
    "    plot_z(xs, ys, zfloor, cells_df)\n",
    "\n",
    "    ax.view_init(yangle, xangle)\n",
    "    return ax\n",
    "\n",
    "fig = plt.figure()\n",
    "ax = plt.axes(projection=\"3d\")\n",
    "ax.clear()\n",
    "do_plot(ax, 5, 150, sk, cells_df)\n",
    "\n",
    "plt.show()\n",
    "#datasets = [{\"x\":[1,2,3], \"y\":[1,4,9], \"z\":[0,0,0], \"colour\": \"red\"} for _ in range(6)]\n",
    "\n",
    "#for dataset in datasets:\n",
    "#    ax.plot(dataset[\"x\"], dataset[\"y\"], dataset[\"z\"], color=dataset[\"colour\"])"
   ]
  },
  {
   "cell_type": "code",
   "execution_count": null,
   "metadata": {
    "autoscroll": false,
    "ein.hycell": false,
    "ein.tags": "worksheet-0",
    "slideshow": {
     "slide_type": "-"
    }
   },
   "outputs": [],
   "source": [
    "fig = plt.figure()\n",
    "ax = plt.axes(projection=\"3d\")\n",
    "ax.clear()\n",
    "\n",
    "do_plot(ax, 20, 50, sk, cells_df)\n"
   ]
  },
  {
   "cell_type": "code",
   "execution_count": null,
   "metadata": {
    "autoscroll": false,
    "ein.hycell": false,
    "ein.tags": "worksheet-0",
    "slideshow": {
     "slide_type": "-"
    }
   },
   "outputs": [],
   "source": [
    "fig = plt.figure()\n",
    "ax = plt.axes(projection=\"3d\")\n",
    "ax.clear()\n",
    "\n",
    "do_plot(ax, 50, 150, sk, cells_df)\n"
   ]
  },
  {
   "cell_type": "code",
   "execution_count": null,
   "metadata": {},
   "outputs": [],
   "source": []
  },
  {
   "cell_type": "code",
   "execution_count": null,
   "metadata": {},
   "outputs": [],
   "source": []
  },
  {
   "cell_type": "code",
   "execution_count": null,
   "metadata": {},
   "outputs": [],
   "source": []
  },
  {
   "cell_type": "code",
   "execution_count": null,
   "metadata": {},
   "outputs": [],
   "source": []
  }
 ],
 "metadata": {
  "kernelspec": {
   "display_name": "Python 3",
   "language": "python",
   "name": "python3"
  },
  "language_info": {
   "codemirror_mode": {
    "name": "ipython",
    "version": 3
   },
   "file_extension": ".py",
   "mimetype": "text/x-python",
   "name": "python",
   "nbconvert_exporter": "python",
   "pygments_lexer": "ipython3",
   "version": "3.7.4"
  },
  "name": "hillclimbing-graphs.ipynb"
 },
 "nbformat": 4,
 "nbformat_minor": 2
}
